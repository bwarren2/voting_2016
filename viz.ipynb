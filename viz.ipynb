{
 "cells": [
  {
   "cell_type": "code",
   "execution_count": 941,
   "metadata": {},
   "outputs": [],
   "source": [
    "# Import all the things\n",
    "import pandas as pd\n",
    "import numpy as np\n",
    "import matplotlib.pyplot as plt\n",
    "import plotly\n",
    "import plotly.figure_factory as ff\n",
    "import waterfall_chart\n",
    "import altair as alt\n",
    "from vega_datasets import data as vega_data\n",
    "import plotly.plotly as py\n",
    "import plotly.graph_objs as go\n",
    "from itertools import product\n",
    "import colorlover as cl\n",
    "import scipy\n",
    "\n",
    "# General settings\n",
    "pd.options.display.max_rows = 10\n",
    "pd.options.display.max_seq_items = 200\n",
    "\n",
    "static_dir = \"slides/static/\"\n",
    "camera = dict(\n",
    "    up=dict(x=0, y=0, z=1),\n",
    "    center=dict(x=0, y=0, z=0),\n",
    "    eye=dict(x=0.1, y=-2.5, z=0.1)\n",
    ")"
   ]
  },
  {
   "cell_type": "code",
   "execution_count": 942,
   "metadata": {},
   "outputs": [],
   "source": [
    "%store -r df"
   ]
  },
  {
   "cell_type": "code",
   "execution_count": 943,
   "metadata": {},
   "outputs": [],
   "source": [
    "# temp_df = df[df.state_abbr.isin(['MI','OH'])]\n",
    "# slope, intercept, r_value, p_value, std_err = scipy.stats.linregress(temp_df['High School Only or Less, 2012-2016'], temp_df['republican_shift'])\n",
    "# slope, intercept, r_value, p_value, std_err"
   ]
  },
  {
   "cell_type": "code",
   "execution_count": 944,
   "metadata": {},
   "outputs": [],
   "source": [
    "# data = []\n",
    "# states = ['ID', 'UT', 'MI', 'IA', 'OH', 'PA', 'FL', 'MN', 'WI', 'Other', 'KY', 'MO', 'NE', 'WV', 'IL', 'ND', 'SD', 'VA', 'IN', 'TN']\n",
    "# colors = {\n",
    "# 'ID': 'darkred',\n",
    "# 'UT': 'maroon',\n",
    "# 'MI': 'red',\n",
    "# 'IA': 'green',\n",
    "# 'OH': 'blue',\n",
    "# 'PA': 'purple',\n",
    "# 'FL': 'orange',\n",
    "# 'MN': 'yellow',\n",
    "# 'WI': 'black',\n",
    "#     'KY': 'cornflowerblue',\n",
    "#     'MO': 'chartreuse',\n",
    "#     'NE': 'khaki',\n",
    "#     'WV': 'lavender',\n",
    "#     'IL': 'lightslategrey',\n",
    "#     'ND': 'teal',\n",
    "#     'SD': 'indigo',\n",
    "#     'VA': 'mediumorchid',\n",
    "#     'IN': 'forestgreen',\n",
    "#     'TN': 'dodgerblue',\n",
    "# 'Other': 'lightgray',\n",
    "# }\n",
    "# for state in states:\n",
    "    \n",
    "#     if state != 'Other':\n",
    "#         cell_df = df[(df.state_abbr == state)]\n",
    "#     else:\n",
    "#         cell_df = df[~df.state_abbr.isin(states)]\n",
    "    \n",
    "#     trace = go.Scatter3d(\n",
    "#         x=list(cell_df['percent_white']),\n",
    "#         y=list(cell_df['High School Only or Less, 2012-2016']),\n",
    "#         z=list(cell_df['republican_shift']),\n",
    "#         text=list(cell_df['GEO.display-label']),\n",
    "#         mode='markers',\n",
    "#         name=state,\n",
    "#         marker=dict(\n",
    "#             size=4,\n",
    "#             color=colors[state],\n",
    "#             line=dict(\n",
    "#                 color='rgba(217, 217, 217, 0.14)',\n",
    "#                 width=0.5\n",
    "#             ),\n",
    "#             opacity=0.8,\n",
    "#             )\n",
    "#         )\n",
    "#     data.append(trace)\n",
    "\n",
    "# layout = go.Layout(\n",
    "#         margin=dict(l=0, r=0, b=0, t=0),\n",
    "#         scene = dict(\n",
    "#             aspectmode='cube',\n",
    "#             xaxis = dict(title='% White'),\n",
    "#             yaxis = dict(title='% High School Only or Less, 2012-2016'),\n",
    "#             zaxis = dict(title='Republican Shift (%age Points)'),),       \n",
    "#         legend=dict(x=-.1, y=1.2)\n",
    "#         )\n",
    "# fig = go.Figure(data=data, layout=layout)\n",
    "# plotly.offline.plot(fig, filename='temp.html')"
   ]
  },
  {
   "cell_type": "markdown",
   "metadata": {},
   "source": [
    "What are the \"outlier districts\"?"
   ]
  },
  {
   "cell_type": "markdown",
   "metadata": {},
   "source": [
    "Elliot County is fascinating.  It was the last county to never vote Republican until 2016.\n",
    "\n",
    "https://apnews.com/ee19ceb7cf0d4af4ab73c393708148bf\n"
   ]
  },
  {
   "cell_type": "markdown",
   "metadata": {},
   "source": [
    "# State Analysis"
   ]
  },
  {
   "cell_type": "code",
   "execution_count": 1026,
   "metadata": {},
   "outputs": [],
   "source": [
    "states = ['MN']\n",
    "state_static_dir = static_dir + \"_\".join(states) + '/'\n",
    "mydf = df[df.state_abbr.isin(states)]\n",
    "\n",
    "import os\n",
    "if not os.path.exists(state_static_dir):\n",
    "    os.makedirs(state_static_dir)\n",
    "\n",
    "def color_urban_rural_code(x):\n",
    "    if x.item() == 1:\n",
    "        return 'green'\n",
    "    elif x.item() == 2:\n",
    "        return 'purple'\n",
    "    elif x.item() == 3 :\n",
    "        return 'orange'\n",
    "    else:\n",
    "        return 'black'\n",
    "\n",
    "def color_winner(x):\n",
    "    if x['votes_dem_2016'] > x['votes_gop_2016'] and x['votes_dem_2012'] > x['votes_gop_2012']:\n",
    "        return 'blue'\n",
    "    if x['votes_dem_2016'] < x['votes_gop_2016'] and x['votes_dem_2012'] < x['votes_gop_2012']:\n",
    "        return 'red'\n",
    "    if x['votes_dem_2016'] > x['votes_gop_2016'] and x['votes_dem_2012'] < x['votes_gop_2012']:\n",
    "        return 'orchid'\n",
    "    if x['votes_dem_2016'] < x['votes_gop_2016'] and x['votes_dem_2012'] > x['votes_gop_2012']:\n",
    "        return 'limegreen'\n",
    "    \n",
    "mydf['color'] = mydf.apply(color_winner, axis=1)\n",
    "mydf['dem_percent_increase'] = (mydf['votes_dem_2016'] - mydf['votes_dem_2012'])/mydf['votes_dem_2012']*100\n",
    "mydf['rep_percent_increase'] = (mydf['votes_gop_2016'] - mydf['votes_gop_2012'])/mydf['votes_gop_2012']*100\n",
    "mydf['dem_vote_change'] = (mydf['votes_dem_2016'] - mydf['votes_dem_2012'])\n",
    "mydf['rep_vote_change'] = (mydf['votes_gop_2016'] - mydf['votes_gop_2012'])\n",
    "mydf['change_in_net_r_votes'] = (mydf['votes_gop_2016'] - mydf['votes_dem_2016'])-(mydf['votes_gop_2012'] - mydf['votes_dem_2012'])\n",
    "mydf['r_edge_over_2012_votes'] = mydf['change_in_net_r_votes']/mydf['total_votes_2012']\n",
    "difference = mydf['change_in_net_r_votes'].sum()\n"
   ]
  },
  {
   "cell_type": "code",
   "execution_count": 946,
   "metadata": {},
   "outputs": [],
   "source": [
    "# ceiling_side = 20\n",
    "\n",
    "\n",
    "# x, y, z = np.random.multivariate_normal(np.array([0,0,0]), np.eye(3), 200).transpose()\n",
    "# trace1 = go.Scatter3d(\n",
    "#     x=mydf['rep_percent_increase'],\n",
    "#     y=mydf['dem_percent_increase'],\n",
    "#     z=mydf['change_in_net_r_votes'],\n",
    "#     text=mydf['GEO.display-label'],\n",
    "#     mode='markers',\n",
    "#     marker=dict(\n",
    "#         size=4,\n",
    "#         color=mydf['color'],\n",
    "#         line=dict(\n",
    "#             color='rgba(217, 217, 217, 0.14)',\n",
    "#             width=0.5\n",
    "#         ),\n",
    "#         opacity=0.8,\n",
    "#     )\n",
    "# )\n",
    "\n",
    "# xs = np.arange(mydf['rep_percent_increase'].min(), mydf['rep_percent_increase'].max(), (mydf['rep_percent_increase'].max()-mydf['rep_percent_increase'].min())/ceiling_side)\n",
    "# ys = np.arange(mydf['dem_percent_increase'].min(), mydf['dem_percent_increase'].max(), (mydf['dem_percent_increase'].max()-mydf['dem_percent_increase'].min())/ceiling_side)\n",
    "# points = list(product(xs, ys))\n",
    "\n",
    "# ceiling = go.Scatter3d(\n",
    "#     x=[point[0] for point in points],\n",
    "#     y=[point[1] for point in points],\n",
    "#     z=np.repeat(difference, len(points)),\n",
    "#     text=mydf['GEO.display-label'],\n",
    "#     mode='markers',\n",
    "#     marker=dict(\n",
    "#         size=4,\n",
    "#         color='black',\n",
    "#         line=dict(\n",
    "#             color='rgba(217, 217, 217, 0.14)',\n",
    "#             width=0.5\n",
    "#         ),\n",
    "#         opacity=0.8,\n",
    "#     )\n",
    "# )\n",
    "\n",
    "\n",
    "# floor = go.Scatter3d(\n",
    "#     x=[point[0] for point in points],\n",
    "#     y=[point[1] for point in points],\n",
    "#     z=np.repeat(-difference, len(points)),\n",
    "#     text=mydf['GEO.display-label'],\n",
    "#     mode='markers',\n",
    "#     marker=dict(\n",
    "#         size=4,\n",
    "#         color='black',\n",
    "#         line=dict(\n",
    "#             color='rgba(217, 217, 217, 0.14)',\n",
    "#             width=0.5\n",
    "#         ),\n",
    "#         opacity=0.8,\n",
    "#     )\n",
    "# )\n",
    "\n",
    "# data = [trace1, ceiling, floor]\n",
    "# layout = go.Layout(\n",
    "#     margin=dict(\n",
    "#         l=0,\n",
    "#         r=0,\n",
    "#         b=0,\n",
    "#         t=0\n",
    "#     ),\n",
    "#    scene = dict(\n",
    "#         aspectmode='cube',\n",
    "#         camera=camera,\n",
    "#         xaxis = dict(title='% Change in Republican Vote Total'),\n",
    "#                     yaxis = dict(title='% Change in Democratic Vote Total'),\n",
    "#                     zaxis = dict(title='Overall Shift in Vote Outcome Positive=Rep'),\n",
    "#        ),\n",
    "# )\n",
    "# fig = go.Figure(data=data, layout=layout)\n",
    "# plotly.offline.plot(fig)"
   ]
  },
  {
   "cell_type": "code",
   "execution_count": 947,
   "metadata": {},
   "outputs": [],
   "source": [
    "# import plotly.plotly as py\n",
    "# import plotly.graph_objs as go\n",
    "\n",
    "# import numpy as np\n",
    "# from itertools import product\n",
    "# import colorlover as cl\n",
    "\n",
    "\n",
    "# ceiling_side = 20\n",
    "\n",
    "# x, y, z = np.random.multivariate_normal(np.array([0,0,0]), np.eye(3), 200).transpose()\n",
    "# trace1 = go.Scatter3d(\n",
    "#     x=mydf['rep_vote_change'],\n",
    "#     y=mydf['dem_vote_change'],\n",
    "#     z=mydf['change_in_net_r_votes'],\n",
    "#     text=mydf['GEO.display-label'],\n",
    "#     mode='markers',\n",
    "#     marker=dict(\n",
    "#         size=4,\n",
    "#         color=mydf['color'],\n",
    "#         line=dict(\n",
    "#             color='rgba(217, 217, 217, 0.14)',\n",
    "#             width=0.5\n",
    "#         ),\n",
    "#         opacity=0.8,\n",
    "#     )\n",
    "# )\n",
    "\n",
    "# xs = np.arange(mydf['rep_vote_change'].min(), mydf['rep_vote_change'].max(), (mydf['rep_vote_change'].max()-mydf['rep_vote_change'].min())/ceiling_side)\n",
    "# ys = np.arange(mydf['dem_vote_change'].min(), mydf['dem_vote_change'].max(), (mydf['dem_vote_change'].max()-mydf['dem_vote_change'].min())/ceiling_side)\n",
    "# points = list(product(xs, ys))\n",
    "\n",
    "# ceiling = go.Scatter3d(\n",
    "#     x=[point[0] for point in points],\n",
    "#     y=[point[1] for point in points],\n",
    "#     z=np.repeat(difference, len(points)),\n",
    "#     text=mydf['GEO.display-label'],\n",
    "#     mode='markers',\n",
    "#     marker=dict(\n",
    "#         size=4,\n",
    "#         color='black',\n",
    "#         line=dict(\n",
    "#             color='rgba(217, 217, 217, 0.14)',\n",
    "#             width=0.5\n",
    "#         ),\n",
    "#         opacity=0.8,\n",
    "#     )\n",
    "# )\n",
    "\n",
    "\n",
    "# floor = go.Scatter3d(\n",
    "#     x=[point[0] for point in points],\n",
    "#     y=[point[1] for point in points],\n",
    "#     z=np.repeat(-difference, len(points)),\n",
    "#     text=mydf['GEO.display-label'],\n",
    "#     mode='markers',\n",
    "#     marker=dict(\n",
    "#         size=4,\n",
    "#         color='black',\n",
    "#         line=dict(\n",
    "#             color='rgba(217, 217, 217, 0.14)',\n",
    "#             width=0.5\n",
    "#         ),\n",
    "#         opacity=0.8,\n",
    "#     )\n",
    "# )\n",
    "\n",
    "# data = [trace1, ceiling, floor]\n",
    "# layout = go.Layout(\n",
    "#     margin=dict(\n",
    "#         l=0,\n",
    "#         r=0,\n",
    "#         b=0,\n",
    "#         t=0\n",
    "#     ),\n",
    "#     scene = dict(\n",
    "#         aspectmode='cube',\n",
    "#         xaxis = dict(title='Raw Change from 2012 Republican Vote'),\n",
    "#         yaxis = dict(title='Raw Change from 2012 Democratic Vote'),\n",
    "#         zaxis = dict(title='Overall Shift in Vote Outcome Positive=Rep'),\n",
    "#         camera=camera,\n",
    "#     ),\n",
    "# )\n",
    "# fig = go.Figure(data=data, layout=layout)\n",
    "# plotly.offline.plot(fig)\n"
   ]
  },
  {
   "cell_type": "markdown",
   "metadata": {},
   "source": [
    "Older males vs education vs shift"
   ]
  },
  {
   "cell_type": "code",
   "execution_count": 948,
   "metadata": {},
   "outputs": [],
   "source": [
    "# import plotly.plotly as py\n",
    "# import plotly.graph_objs as go\n",
    "\n",
    "# import numpy as np\n",
    "\n",
    "\n",
    "# trace1 = go.Scatter3d(\n",
    "#     x=mydf['males_over_55_rate'],\n",
    "#     y=mydf['High School Only or Less, 2012-2016'],\n",
    "#     z=mydf['republican_shift'],\n",
    "#     text=mydf['GEO.display-label'],\n",
    "#     mode='markers',\n",
    "#     marker=dict(\n",
    "#         size=4,\n",
    "#         color=mydf['color'],\n",
    "#         line=dict(\n",
    "#             color='rgba(217, 217, 217, 0.14)',\n",
    "#             width=0.5\n",
    "#         ),\n",
    "#         opacity=0.8,\n",
    "#     )\n",
    "# )\n",
    "# data = [trace1]\n",
    "# layout = go.Layout(\n",
    "#     margin=dict(\n",
    "#         l=0,\n",
    "#         r=0,\n",
    "#         b=0,\n",
    "#         t=0\n",
    "#     ),\n",
    "#     scene = dict(\n",
    "#         aspectmode='cube',\n",
    "#         xaxis = dict(title='Males Over 45 Rate', range=[10,20]),\n",
    "#         yaxis = dict(title='High School Only or Less, 2012-2016'),\n",
    "#         zaxis = dict(title='Republican Shift'),\n",
    "#         camera=camera,\n",
    "#     ),\n",
    "\n",
    "#     )\n",
    "# fig = go.Figure(data=data, layout=layout)\n",
    "# plotly.offline.plot(fig)"
   ]
  },
  {
   "cell_type": "code",
   "execution_count": 949,
   "metadata": {},
   "outputs": [],
   "source": [
    "# import plotly.plotly as py\n",
    "# import plotly.graph_objs as go\n",
    "\n",
    "# import numpy as np\n",
    "\n",
    "\n",
    "# trace1 = go.Scatter3d(\n",
    "#     x=mydf['percent_white'],\n",
    "#     y=mydf['High School Only or Less, 2012-2016'],\n",
    "#     z=mydf['republican_shift'],\n",
    "#     text=mydf['GEO.display-label'],\n",
    "#     mode='markers',\n",
    "#     marker=dict(\n",
    "#         size=5+10*(mydf['pop_estimate_2017'])/mydf['pop_estimate_2017'].max(),\n",
    "#         color=mydf['color'],\n",
    "#         line=dict(\n",
    "#             color='black',\n",
    "#             width=0.5\n",
    "#         ),\n",
    "#         opacity=0.8,\n",
    "#     )\n",
    "# )\n",
    "# data = [trace1]\n",
    "# layout = go.Layout(\n",
    "#     margin=dict(\n",
    "#         l=0,\n",
    "#         r=0,\n",
    "#         b=0,\n",
    "#         t=0\n",
    "#     ),\n",
    "#     scene = dict(\n",
    "#         aspectmode='cube',\n",
    "#         xaxis = dict(title='% County that is White'),\n",
    "#         yaxis = dict(title='High School Only or Less, 2012-2016'),\n",
    "#         zaxis = dict(title='Republican Shift'),\n",
    "#         camera=camera,\n",
    "#     ),\n",
    "\n",
    "#     )\n",
    "# fig = go.Figure(data=data, layout=layout)\n",
    "# plotly.offline.plot(fig)\n"
   ]
  },
  {
   "cell_type": "code",
   "execution_count": 950,
   "metadata": {},
   "outputs": [
    {
     "data": {
      "text/plain": [
       "'file:///Users/bwarren/SideProjects/voting/slides/static/WI/pop_change_ed_shift.html'"
      ]
     },
     "execution_count": 950,
     "metadata": {},
     "output_type": "execute_result"
    }
   ],
   "source": [
    "\n",
    "import plotly.plotly as py\n",
    "import plotly.graph_objs as go\n",
    "\n",
    "# mydf = df[(df.state_abbr == 'OH')]\n",
    "# mydf=mydf[mydf['2016_pop']/mydf['1980_pop_total']<2]\n",
    "import numpy as np\n",
    "\n",
    "\n",
    "trace1 = go.Scatter3d(\n",
    "    x=mydf['2016_pop']/mydf['1980_pop_total'],\n",
    "    y=mydf['High School Only or Less, 2012-2016'],\n",
    "    z=mydf['republican_shift'],\n",
    "    text=mydf['GEO.display-label'],\n",
    "    mode='markers',\n",
    "    marker=dict(\n",
    "        size=4,\n",
    "        color=mydf['color'],\n",
    "        line=dict(\n",
    "            color='rgba(0,0,0, 0.14)',\n",
    "            width=1\n",
    "        ),\n",
    "        opacity=0.8,\n",
    "    )\n",
    ")\n",
    "data = [trace1]\n",
    "layout = go.Layout(\n",
    "    margin=dict(\n",
    "        l=0,\n",
    "        r=0,\n",
    "        b=0,\n",
    "        t=0\n",
    "    ),\n",
    "    xaxis=dict(range=[0.5, 2]),\n",
    "    legend=dict(orientation=\"h\"),\n",
    "    scene = dict(\n",
    "        aspectmode='cube',\n",
    "        xaxis = dict(title='2016 Population / 1980 Population'),\n",
    "        yaxis = dict(title='High School Only or Less, 2012-2016'),\n",
    "        zaxis = dict(title='Republican Shift'),\n",
    "        camera=camera,\n",
    "    ),\n",
    "\n",
    "    )\n",
    "fig = go.Figure(data=data, layout=layout)\n",
    "plotly.offline.plot(fig, filename=state_static_dir+'pop_change_ed_shift.html')\n",
    "\n"
   ]
  },
  {
   "cell_type": "markdown",
   "metadata": {},
   "source": [
    "Ohio Special: Coal Chart"
   ]
  },
  {
   "cell_type": "code",
   "execution_count": 951,
   "metadata": {},
   "outputs": [
    {
     "data": {
      "text/plain": [
       "'file:///Users/bwarren/SideProjects/voting/slides/static/WI/compare_scatter.html'"
      ]
     },
     "execution_count": 951,
     "metadata": {},
     "output_type": "execute_result"
    }
   ],
   "source": [
    "import plotly.plotly as py\n",
    "import plotly.graph_objs as go\n",
    "\n",
    "# mydf = df[(df.state_abbr == 'OH')]\n",
    "\n",
    "import numpy as np\n",
    "# mydf['color'] = np.where(mydf['GEO.display-label'].str.contains('Stark|Mahoning|Columbiana|Carroll|Jefferson|Harrison|Tuscarawas|Belmont|Guernsey|Monroe|Noble|Coshocton|Muskingum|Perry|Athens|Meigs|Vinton|Jackson'), \n",
    "#     'red', \n",
    "#     np.where(\n",
    "#         mydf['GEO.display-label'].str.contains(\n",
    "#             'Pike|Morgan|Scioto|Lawrence|Gallia|Morgan|Washington|Ross|Hocking|Fairfield|Licking|Knox|Holmes|Waynce|Summit|Portage|Trumbull'\n",
    "#         ), \n",
    "#         'orange', 'black')\n",
    "# )\n",
    "\n",
    "trace1 = go.Scatter3d(\n",
    "    x=mydf['percent_white'],\n",
    "    y=mydf['High School Only or Less, 2012-2016'],\n",
    "    z=mydf['republican_shift'],\n",
    "    text=mydf['GEO.display-label'],\n",
    "    mode='markers',\n",
    "    name=\", \".join(states)+' Counties',\n",
    "    marker=dict(\n",
    "        size=4,\n",
    "        color=mydf['color'],\n",
    "        line=dict(\n",
    "            color='rgba(217, 217, 217, 0.14)',\n",
    "            width=0.5\n",
    "        ),\n",
    "        opacity=0.8,\n",
    "    )\n",
    ")\n",
    "planar_set = df[df['percent_white']< 80] \n",
    "trace2 = go.Scatter3d(\n",
    "    x=planar_set['percent_white'],\n",
    "    y=planar_set['High School Only or Less, 2012-2016'],\n",
    "    z=planar_set['republican_shift'],\n",
    "    text=planar_set['GEO.display-label'],\n",
    "    mode='markers',\n",
    "    name='<80% White US Counties',\n",
    "    marker=dict(\n",
    "        size=4,\n",
    "        line=dict(\n",
    "            color='rgba(217, 217, 217, 0.14)',\n",
    "            width=0.5\n",
    "        ),\n",
    "        color='gray',\n",
    "        opacity=0.8,\n",
    "    )\n",
    ")\n",
    "data = [trace1, trace2]\n",
    "layout = go.Layout(\n",
    "    margin=dict(\n",
    "        l=0,\n",
    "        r=0,\n",
    "        b=0,\n",
    "        t=0\n",
    "    ),\n",
    "    legend=dict(orientation=\"h\"),\n",
    "    scene = dict(\n",
    "        aspectmode='cube',\n",
    "        xaxis = dict(title='% County that is White'),\n",
    "        yaxis = dict(title='High School Only or Less, 2012-2016'),\n",
    "        zaxis = dict(title='Republican Shift'),\n",
    "        camera=camera,\n",
    "    ),\n",
    "\n",
    "    )\n",
    "fig = go.Figure(data=data, layout=layout)\n",
    "plotly.offline.plot(fig, filename=state_static_dir+'compare_scatter.html')\n",
    "\n"
   ]
  },
  {
   "cell_type": "markdown",
   "metadata": {},
   "source": [
    "% change in R votes vs 2 factors"
   ]
  },
  {
   "cell_type": "code",
   "execution_count": 952,
   "metadata": {},
   "outputs": [
    {
     "data": {
      "text/plain": [
       "'file:///Users/bwarren/SideProjects/voting/slides/static/WI/%_rep_change_from_2012.html'"
      ]
     },
     "execution_count": 952,
     "metadata": {},
     "output_type": "execute_result"
    }
   ],
   "source": [
    "import plotly.plotly as py\n",
    "import plotly.graph_objs as go\n",
    "\n",
    "import numpy as np\n",
    "\n",
    "data = []\n",
    "for state in states:\n",
    "    temp_df = mydf[mydf.state_abbr==state]\n",
    "    trace = go.Scatter3d(\n",
    "        x=temp_df['percent_white'],\n",
    "        y=temp_df['High School Only or Less, 2012-2016'],\n",
    "        z=temp_df['votes_gop_2016']/temp_df['votes_gop_2012'],\n",
    "        text=temp_df['GEO.display-label'],\n",
    "        name=state,\n",
    "        mode='markers',\n",
    "        marker=dict(\n",
    "            size=5+10*(temp_df['pop_estimate_2017'])/temp_df['pop_estimate_2017'].max(),\n",
    "            color=temp_df['color'],\n",
    "            line=dict(\n",
    "                color='rgba(217, 217, 217, 0.14)',\n",
    "                width=0.5\n",
    "            ),\n",
    "            opacity=0.8,\n",
    "        )\n",
    "    )\n",
    "    data.append(trace)\n",
    "layout = go.Layout(\n",
    "    margin=dict(\n",
    "        l=0,\n",
    "        r=0,\n",
    "        b=0,\n",
    "        t=0\n",
    "    ),\n",
    "    scene = dict(\n",
    "        aspectmode='cube',\n",
    "        xaxis = dict(title='% County that is White'),\n",
    "        yaxis = dict(title='High School Only or Less, 2012-2016'),\n",
    "        zaxis = dict(title='% Change in GOP Votes, 2016/2012'),\n",
    "        camera=camera,\n",
    "    ),\n",
    "\n",
    "    )\n",
    "fig = go.Figure(data=data, layout=layout)\n",
    "plotly.offline.plot(fig, filename=state_static_dir+'%_rep_change_from_2012.html')"
   ]
  },
  {
   "cell_type": "markdown",
   "metadata": {},
   "source": [
    "% change in dem votes vs two factors"
   ]
  },
  {
   "cell_type": "code",
   "execution_count": 953,
   "metadata": {},
   "outputs": [
    {
     "data": {
      "text/plain": [
       "'file:///Users/bwarren/SideProjects/voting/slides/static/WI/shifts_vs_edge_over_total_12.html'"
      ]
     },
     "execution_count": 953,
     "metadata": {},
     "output_type": "execute_result"
    }
   ],
   "source": [
    "import plotly.plotly as py\n",
    "import plotly.graph_objs as go\n",
    "\n",
    "import numpy as np\n",
    "\n",
    "data = []\n",
    "for state in states:\n",
    "    temp_df = mydf[mydf.state_abbr==state]\n",
    "    trace = go.Scatter3d(\n",
    "        x=temp_df['votes_gop_2016']/temp_df['votes_gop_2012'],\n",
    "        y=temp_df['votes_dem_2016']/temp_df['votes_dem_2012'],\n",
    "        z=temp_df['r_edge_over_2012_votes'],\n",
    "        text=temp_df['GEO.display-label'],\n",
    "        name=state,\n",
    "        mode='markers',\n",
    "        marker=dict(\n",
    "            size=5+10*(temp_df['pop_estimate_2017'])/temp_df['pop_estimate_2017'].max(),\n",
    "            color=temp_df['color'],\n",
    "            line=dict(\n",
    "                color='rgba(217, 217, 217, 0.14)',\n",
    "                width=0.5\n",
    "            ),\n",
    "            opacity=0.8,\n",
    "        )\n",
    "    )\n",
    "    data.append(trace)\n",
    "layout = go.Layout(\n",
    "    margin=dict(\n",
    "        l=0,\n",
    "        r=0,\n",
    "        b=0,\n",
    "        t=0\n",
    "    ),\n",
    "    scene = dict(\n",
    "        aspectmode='cube',\n",
    "        xaxis = dict(title='GOP % increase in votes from 2012'),\n",
    "        yaxis = dict(title='Dem % increase in votes from 2012'),\n",
    "        zaxis = dict(title='Republican Shift'),\n",
    "        camera=camera,\n",
    "    ),\n",
    "\n",
    "    )\n",
    "fig = go.Figure(data=data, layout=layout)\n",
    "plotly.offline.plot(fig, filename=state_static_dir+'shifts_vs_edge_over_total_12.html')"
   ]
  },
  {
   "cell_type": "code",
   "execution_count": 954,
   "metadata": {},
   "outputs": [
    {
     "data": {
      "text/plain": [
       "'file:///Users/bwarren/SideProjects/voting/slides/static/WI/vote_changes.html'"
      ]
     },
     "execution_count": 954,
     "metadata": {},
     "output_type": "execute_result"
    }
   ],
   "source": [
    "import plotly.plotly as py\n",
    "import plotly.graph_objs as go\n",
    "\n",
    "import numpy as np\n",
    "\n",
    "data = []\n",
    "for state in states:\n",
    "    temp_df = mydf[mydf.state_abbr==state]\n",
    "    trace = go.Scatter3d(\n",
    "        x=temp_df['votes_gop_2016']-temp_df['votes_gop_2012'],\n",
    "        y=temp_df['votes_dem_2016']-temp_df['votes_dem_2012'],\n",
    "        z=temp_df['change_in_net_r_votes'],\n",
    "        text=temp_df['GEO.display-label'],\n",
    "        name=state,\n",
    "        mode='markers',\n",
    "        marker=dict(\n",
    "            size=5+10*(temp_df['pop_estimate_2017'])/temp_df['pop_estimate_2017'].max(),\n",
    "            color=temp_df['color'],\n",
    "            line=dict(\n",
    "                color='rgba(217, 217, 217, 0.14)',\n",
    "                width=0.5\n",
    "            ),\n",
    "            opacity=0.8,\n",
    "        )\n",
    "    )\n",
    "    data.append(trace)\n",
    "layout = go.Layout(\n",
    "    margin=dict(\n",
    "        l=0,\n",
    "        r=0,\n",
    "        b=0,\n",
    "        t=0\n",
    "    ),\n",
    "    scene = dict(\n",
    "        aspectmode='cube',\n",
    "        xaxis = dict(title='GOP Vote Changes'),\n",
    "        yaxis = dict(title='Dem Vote Changes'),\n",
    "        zaxis = dict(title='Net Change in R Votes'),\n",
    "        camera=camera,\n",
    "    ),\n",
    "\n",
    "    )\n",
    "fig = go.Figure(data=data, layout=layout)\n",
    "plotly.offline.plot(fig, filename=state_static_dir+'vote_changes.html')"
   ]
  },
  {
   "cell_type": "code",
   "execution_count": 955,
   "metadata": {},
   "outputs": [
    {
     "data": {
      "text/plain": [
       "'file:///Users/bwarren/SideProjects/voting/slides/static/WI/shifts.html'"
      ]
     },
     "execution_count": 955,
     "metadata": {},
     "output_type": "execute_result"
    }
   ],
   "source": [
    "import plotly.plotly as py\n",
    "import plotly.graph_objs as go\n",
    "\n",
    "import numpy as np\n",
    "\n",
    "data = []\n",
    "for state in states:\n",
    "    temp_df = mydf[mydf.state_abbr==state]\n",
    "    trace = go.Scatter3d(\n",
    "        x=temp_df['votes_gop_2016']/temp_df['votes_gop_2012'],\n",
    "        y=temp_df['votes_dem_2016']/temp_df['votes_dem_2012'],\n",
    "        z=temp_df['republican_shift'],\n",
    "        text=temp_df['GEO.display-label'],\n",
    "        name=state,\n",
    "        mode='markers',\n",
    "        marker=dict(\n",
    "            size=5+10*(temp_df['pop_estimate_2017'])/temp_df['pop_estimate_2017'].max(),\n",
    "            color=temp_df['color'],\n",
    "            line=dict(\n",
    "                color='rgba(217, 217, 217, 0.14)',\n",
    "                width=0.5\n",
    "            ),\n",
    "            opacity=0.8,\n",
    "        )\n",
    "    )\n",
    "    data.append(trace)\n",
    "layout = go.Layout(\n",
    "    margin=dict(\n",
    "        l=0,\n",
    "        r=0,\n",
    "        b=0,\n",
    "        t=0\n",
    "    ),\n",
    "    scene = dict(\n",
    "        aspectmode='cube',\n",
    "        xaxis = dict(title='GOP % increase in votes from 2012'),\n",
    "        yaxis = dict(title='Dem % increase in votes from 2012'),\n",
    "        zaxis = dict(title='Republican Shift'),\n",
    "        camera=camera,\n",
    "    ),\n",
    "\n",
    "    )\n",
    "fig = go.Figure(data=data, layout=layout)\n",
    "plotly.offline.plot(fig, filename=state_static_dir+'shifts.html')"
   ]
  },
  {
   "cell_type": "code",
   "execution_count": 956,
   "metadata": {},
   "outputs": [
    {
     "data": {
      "text/plain": [
       "'file:///Users/bwarren/SideProjects/voting/slides/static/WI/%_dem_change_from_2012.html'"
      ]
     },
     "execution_count": 956,
     "metadata": {},
     "output_type": "execute_result"
    }
   ],
   "source": [
    "import plotly.plotly as py\n",
    "import plotly.graph_objs as go\n",
    "\n",
    "\n",
    "\n",
    "import numpy as np\n",
    "# mydf['color'] = np.where(mydf['GEO.display-label'].str.contains('Stark|Mahoning|Columbiana|Carroll|Jefferson|Harrison|Tuscarawas|Belmont|Guernsey|Monroe|Noble|Coshocton|Muskingum|Perry|Athens|Meigs|Vinton|Jackson'), \n",
    "#     'red', \n",
    "#     np.where(\n",
    "#         mydf['GEO.display-label'].str.contains(\n",
    "#             'Pike|Morgan|Scioto|Lawrence|Gallia|Morgan|Washington|Ross|Hocking|Fairfield|Licking|Knox|Holmes|Waynce|Summit|Portage|Trumbull'\n",
    "#         ), \n",
    "#         'orange', 'black')\n",
    "# )\n",
    "data = []\n",
    "for state in states:\n",
    "    temp_df = mydf[mydf.state_abbr==state]\n",
    "    trace = go.Scatter3d(\n",
    "        x=temp_df['percent_white'],\n",
    "        y=temp_df['High School Only or Less, 2012-2016'],\n",
    "        z=temp_df['votes_dem_2016']/temp_df['votes_dem_2012'],\n",
    "        text=temp_df['GEO.display-label'],\n",
    "        mode='markers',\n",
    "        marker=dict(\n",
    "            color=temp_df['color'],\n",
    "            size=5+10*(temp_df['pop_estimate_2017'])/temp_df['pop_estimate_2017'].max(),\n",
    "            line=dict(\n",
    "                color='rgba(217, 217, 217, 0.14)',\n",
    "                width=0.5,\n",
    "            ),\n",
    "            opacity=0.8,\n",
    "        )\n",
    "    )\n",
    "    data.append(trace)\n",
    "layout = go.Layout(\n",
    "    margin=dict(\n",
    "        l=0,\n",
    "        r=0,\n",
    "        b=0,\n",
    "        t=0\n",
    "    ),\n",
    "    scene = dict(\n",
    "        aspectmode='cube',\n",
    "        xaxis = dict(title='% County that is White'),\n",
    "        yaxis = dict(title='High School Only or Less, 2012-2016'),\n",
    "        zaxis = dict(title='% Change in Dem Votes, 2016/2012'),\n",
    "        camera=camera,\n",
    "    ),\n",
    "\n",
    "    )\n",
    "fig = go.Figure(data=data, layout=layout)\n",
    "plotly.offline.plot(fig, filename=state_static_dir+'%_dem_change_from_2012.html')"
   ]
  },
  {
   "cell_type": "code",
   "execution_count": 957,
   "metadata": {},
   "outputs": [
    {
     "data": {
      "text/plain": [
       "'file:///Users/bwarren/SideProjects/voting/slides/static/WI/median_household_income.html'"
      ]
     },
     "execution_count": 957,
     "metadata": {},
     "output_type": "execute_result"
    }
   ],
   "source": [
    "\n",
    "import plotly.plotly as py\n",
    "import plotly.graph_objs as go\n",
    "\n",
    "\n",
    "trace1 = go.Scatter3d(\n",
    "    x=mydf['Median_Household_Income_2016'],\n",
    "    y=mydf['High School Only or Less, 2012-2016'],\n",
    "    z=mydf['votes_gop_2016']/mydf['votes_gop_2012'],\n",
    "    text=mydf['GEO.display-label'],\n",
    "    mode='markers',\n",
    "    marker=dict(\n",
    "        size=4,\n",
    "        color=mydf['color'],\n",
    "        line=dict(\n",
    "            color='rgba(217, 217, 217, 0.14)',\n",
    "            width=0.5\n",
    "        ),\n",
    "        opacity=0.8,\n",
    "    )\n",
    ")\n",
    "data = [trace1]\n",
    "layout = go.Layout(\n",
    "    margin=dict(\n",
    "        l=0,\n",
    "        r=0,\n",
    "        b=0,\n",
    "        t=0\n",
    "    ),\n",
    "    scene = dict(\n",
    "        aspectmode='cube',\n",
    "        xaxis = dict(title='Median Household Income'),\n",
    "        yaxis = dict(title='High School Only or Less, 2012-2016'),\n",
    "        zaxis = dict(title='Republican Shift'),\n",
    "        camera=camera,\n",
    "    ),\n",
    "\n",
    "    )\n",
    "fig = go.Figure(data=data, layout=layout)\n",
    "plotly.offline.plot(fig, filename=state_static_dir+'median_household_income.html')"
   ]
  },
  {
   "cell_type": "code",
   "execution_count": 1027,
   "metadata": {},
   "outputs": [
    {
     "data": {
      "text/plain": [
       "'file:///Users/bwarren/SideProjects/voting/slides/static/MN/%_unemployment_rate.html'"
      ]
     },
     "execution_count": 1027,
     "metadata": {},
     "output_type": "execute_result"
    }
   ],
   "source": [
    "import plotly.plotly as py\n",
    "import plotly.graph_objs as go\n",
    "\n",
    "\n",
    "trace1 = go.Scatter3d(\n",
    "    x=mydf['Unemployment_rate_2016'],\n",
    "    y=mydf['High School Only or Less, 2012-2016'],\n",
    "    z=mydf['votes_gop_2016']/mydf['votes_gop_2012'],\n",
    "    text=mydf['GEO.display-label'],\n",
    "    mode='markers',\n",
    "    marker=dict(\n",
    "        size=4,\n",
    "        color=mydf['color'],\n",
    "        line=dict(\n",
    "            color='rgba(217, 217, 217, 0.14)',\n",
    "            width=0.5\n",
    "        ),\n",
    "        opacity=0.8,\n",
    "    )\n",
    ")\n",
    "data = [trace1]\n",
    "layout = go.Layout(\n",
    "    margin=dict(\n",
    "        l=0,\n",
    "        r=0,\n",
    "        b=0,\n",
    "        t=0\n",
    "    ),\n",
    "    scene = dict(\n",
    "        aspectmode='cube',\n",
    "        xaxis = dict(title='Unemployment Rate'),\n",
    "        yaxis = dict(title='High School Only or Less, 2012-2016'),\n",
    "        zaxis = dict(title='GOP 2016/2012'),\n",
    "        camera=camera,\n",
    "    ),\n",
    "\n",
    "    )\n",
    "fig = go.Figure(data=data, layout=layout)\n",
    "plotly.offline.plot(fig, filename=state_static_dir+'%_unemployment_rate.html')"
   ]
  },
  {
   "cell_type": "code",
   "execution_count": 959,
   "metadata": {},
   "outputs": [
    {
     "data": {
      "text/plain": [
       "'file:///Users/bwarren/SideProjects/voting/slides/static/WI/%_over_65.html'"
      ]
     },
     "execution_count": 959,
     "metadata": {},
     "output_type": "execute_result"
    }
   ],
   "source": [
    "import plotly.plotly as py\n",
    "import plotly.graph_objs as go\n",
    "\n",
    "\n",
    "trace1 = go.Scatter3d(\n",
    "    x=mydf['people_over_65_rate'],\n",
    "    y=mydf['High School Only or Less, 2012-2016'],\n",
    "    z=mydf['republican_shift'],\n",
    "    text=mydf['GEO.display-label'],\n",
    "    mode='markers',\n",
    "    marker=dict(\n",
    "        size=4,\n",
    "        color=mydf['color'],\n",
    "        line=dict(\n",
    "            color='rgba(217, 217, 217, 0.14)',\n",
    "            width=0.5\n",
    "        ),\n",
    "        opacity=0.8,\n",
    "    )\n",
    ")\n",
    "data = [trace1]\n",
    "layout = go.Layout(\n",
    "    margin=dict(\n",
    "        l=0,\n",
    "        r=0,\n",
    "        b=0,\n",
    "        t=0\n",
    "    ),\n",
    "    scene = dict(\n",
    "        aspectmode='cube',\n",
    "        xaxis = dict(title='% Over 65'),\n",
    "        yaxis = dict(title='High School Only or Less, 2012-2016'),\n",
    "        zaxis = dict(title='Republican Shift'),\n",
    "        camera=camera,\n",
    "    ),\n",
    "\n",
    "    )\n",
    "fig = go.Figure(data=data, layout=layout)\n",
    "plotly.offline.plot(fig, filename=state_static_dir+'%_over_65.html')"
   ]
  },
  {
   "cell_type": "code",
   "execution_count": 960,
   "metadata": {},
   "outputs": [
    {
     "data": {
      "text/plain": [
       "'file:///Users/bwarren/SideProjects/voting/slides/static/WI/%_over_45.html'"
      ]
     },
     "execution_count": 960,
     "metadata": {},
     "output_type": "execute_result"
    }
   ],
   "source": [
    "import plotly.plotly as py\n",
    "import plotly.graph_objs as go\n",
    "\n",
    "\n",
    "trace1 = go.Scatter3d(\n",
    "    x=mydf['people_over_45_rate'],\n",
    "    y=mydf['High School Only or Less, 2012-2016'],\n",
    "    z=mydf['votes_gop_2016']/mydf['votes_gop_2012'],\n",
    "    text=mydf['GEO.display-label'],\n",
    "    mode='markers',\n",
    "    marker=dict(\n",
    "        size=4,\n",
    "        color=mydf['color'],\n",
    "        line=dict(\n",
    "            color='rgba(217, 217, 217, 0.14)',\n",
    "            width=0.5\n",
    "        ),\n",
    "        opacity=0.8,\n",
    "    )\n",
    ")\n",
    "data = [trace1]\n",
    "layout = go.Layout(\n",
    "    margin=dict(\n",
    "        l=0,\n",
    "        r=0,\n",
    "        b=0,\n",
    "        t=0\n",
    "    ),\n",
    "    scene = dict(\n",
    "        aspectmode='cube',\n",
    "        xaxis = dict(title='% Over 45'),\n",
    "        yaxis = dict(title='High School Only or Less, 2012-2016'),\n",
    "        zaxis = dict(title='Republican Shift'),\n",
    "        camera=camera,\n",
    "    ),\n",
    "\n",
    "    )\n",
    "fig = go.Figure(data=data, layout=layout)\n",
    "plotly.offline.plot(fig, filename=state_static_dir+'%_over_45.html')"
   ]
  },
  {
   "cell_type": "code",
   "execution_count": 961,
   "metadata": {},
   "outputs": [
    {
     "data": {
      "text/plain": [
       "'file:///Users/bwarren/SideProjects/voting/slides/static/WI/%_religious.html'"
      ]
     },
     "execution_count": 961,
     "metadata": {},
     "output_type": "execute_result"
    }
   ],
   "source": [
    "import plotly.plotly as py\n",
    "import plotly.graph_objs as go\n",
    "\n",
    "\n",
    "trace1 = go.Scatter3d(\n",
    "    x=mydf['religious_pct'],\n",
    "    y=mydf['High School Only or Less, 2012-2016'],\n",
    "    z=mydf['republican_shift'],\n",
    "    text=mydf['GEO.display-label'],\n",
    "    mode='markers',\n",
    "    marker=dict(\n",
    "        size=4,\n",
    "        color=mydf['color'],\n",
    "        line=dict(\n",
    "            color='rgba(217, 217, 217, 0.14)',\n",
    "            width=0.5\n",
    "        ),\n",
    "        opacity=0.8,\n",
    "    )\n",
    ")\n",
    "data = [trace1]\n",
    "layout = go.Layout(\n",
    "    margin=dict(\n",
    "        l=0,\n",
    "        r=0,\n",
    "        b=0,\n",
    "        t=0\n",
    "    ),\n",
    "    scene = dict(\n",
    "        aspectmode='cube',\n",
    "        xaxis = dict(title='% Religious'),\n",
    "        yaxis = dict(title='High School Only or Less, 2012-2016'),\n",
    "        zaxis = dict(title='Republican Shift'),\n",
    "        camera=camera,\n",
    "    ),\n",
    "\n",
    "    )\n",
    "fig = go.Figure(data=data, layout=layout)\n",
    "plotly.offline.plot(fig, filename=state_static_dir+'%_religious.html')"
   ]
  },
  {
   "cell_type": "code",
   "execution_count": 962,
   "metadata": {},
   "outputs": [
    {
     "data": {
      "text/plain": [
       "'file:///Users/bwarren/SideProjects/voting/slides/static/WI/%_prot_evan.html'"
      ]
     },
     "execution_count": 962,
     "metadata": {},
     "output_type": "execute_result"
    }
   ],
   "source": [
    "import plotly.plotly as py\n",
    "import plotly.graph_objs as go\n",
    "\n",
    "\n",
    "trace1 = go.Scatter3d(\n",
    "    x=mydf['MPRTRATE'],\n",
    "    y=mydf['EVANRATE'],\n",
    "    z=mydf['votes_gop_2016']/mydf['votes_gop_2012'],\n",
    "    text=mydf['GEO.display-label'],\n",
    "    mode='markers',\n",
    "    marker=dict(\n",
    "        size=4,\n",
    "        color=mydf['color'],\n",
    "        line=dict(\n",
    "            color='rgba(217, 217, 217, 0.14)',\n",
    "            width=0.5\n",
    "        ),\n",
    "        opacity=0.8,\n",
    "    )\n",
    ")\n",
    "data = [trace1]\n",
    "layout = go.Layout(\n",
    "    margin=dict(\n",
    "        l=0,\n",
    "        r=0,\n",
    "        b=0,\n",
    "        t=0\n",
    "    ),\n",
    "    scene = dict(\n",
    "        aspectmode='cube',\n",
    "        xaxis = dict(title='% Mainline Protestant'),\n",
    "        yaxis = dict(title='% Evangelical'),\n",
    "        zaxis = dict(title='Gop 2106 Votes / 2012'),\n",
    "        camera=camera,\n",
    "    ),\n",
    "\n",
    "    )\n",
    "fig = go.Figure(data=data, layout=layout)\n",
    "plotly.offline.plot(fig, filename=state_static_dir+'%_prot_evan.html')"
   ]
  },
  {
   "cell_type": "code",
   "execution_count": 963,
   "metadata": {},
   "outputs": [
    {
     "data": {
      "text/plain": [
       "'file:///Users/bwarren/SideProjects/voting/slides/static/WI/%_dem_change_vs_%_rep_change_vs_shift.html'"
      ]
     },
     "execution_count": 963,
     "metadata": {},
     "output_type": "execute_result"
    }
   ],
   "source": [
    "import plotly.plotly as py\n",
    "import plotly.graph_objs as go\n",
    "\n",
    "\n",
    "trace1 = go.Scatter3d(\n",
    "    x=mydf['votes_dem_2016']/mydf['votes_dem_2012'],\n",
    "    y=mydf['votes_gop_2016']/mydf['votes_gop_2012'],\n",
    "    z=mydf['republican_shift'],\n",
    "    text=mydf['GEO.display-label'],\n",
    "    mode='markers',\n",
    "    marker=dict(\n",
    "        size=4,\n",
    "        color=mydf['color'],\n",
    "        line=dict(\n",
    "            color='rgba(217, 217, 217, 0.14)',\n",
    "            width=0.5\n",
    "        ),\n",
    "        opacity=0.8,\n",
    "    )\n",
    ")\n",
    "data = [trace1]\n",
    "layout = go.Layout(\n",
    "    margin=dict(\n",
    "        l=0,\n",
    "        r=0,\n",
    "        b=0,\n",
    "        t=0\n",
    "    ),\n",
    "    scene = dict(\n",
    "        aspectmode='cube',\n",
    "        xaxis = dict(title='Dem Vote 2016/2012, % Change'),\n",
    "        yaxis = dict(title='GOP Vote 2016/2012, % Change'),\n",
    "        zaxis = dict(title='Republican Shift'),\n",
    "        camera=camera,\n",
    "    ),\n",
    "\n",
    "    )\n",
    "fig = go.Figure(data=data, layout=layout)\n",
    "plotly.offline.plot(fig, filename=state_static_dir+'%_dem_change_vs_%_rep_change_vs_shift.html')"
   ]
  },
  {
   "cell_type": "code",
   "execution_count": 964,
   "metadata": {},
   "outputs": [
    {
     "data": {
      "text/plain": [
       "'file:///Users/bwarren/SideProjects/voting/slides/static/WI/%_vets.html'"
      ]
     },
     "execution_count": 964,
     "metadata": {},
     "output_type": "execute_result"
    }
   ],
   "source": [
    "import plotly.plotly as py\n",
    "import plotly.graph_objs as go\n",
    "\n",
    "\n",
    "trace1 = go.Scatter3d(\n",
    "    x=mydf['vets_2016']/mydf['pop_estimate_2017'],\n",
    "    y=mydf['High School Only or Less, 2012-2016'],\n",
    "    z=mydf['republican_shift'],\n",
    "    text=mydf['GEO.display-label'],\n",
    "    mode='markers',\n",
    "    marker=dict(\n",
    "        size=4,\n",
    "        color=mydf['color'],\n",
    "        line=dict(\n",
    "            color='rgba(217, 217, 217, 0.14)',\n",
    "            width=0.5\n",
    "        ),\n",
    "        opacity=0.8,\n",
    "    )\n",
    ")\n",
    "data = [trace1]\n",
    "layout = go.Layout(\n",
    "    margin=dict(\n",
    "        l=0,\n",
    "        r=0,\n",
    "        b=0,\n",
    "        t=0\n",
    "    ),\n",
    "    scene = dict(\n",
    "        aspectmode='cube',\n",
    "        xaxis = dict(title='% Veteran'),\n",
    "        yaxis = dict(title='High School Only or Less, 2012-2016'),\n",
    "        zaxis = dict(title='Republican Shift'),\n",
    "        camera=camera,\n",
    "    ),\n",
    "\n",
    "    )\n",
    "fig = go.Figure(data=data, layout=layout)\n",
    "plotly.offline.plot(fig, filename=state_static_dir+'%_vets.html')"
   ]
  },
  {
   "cell_type": "markdown",
   "metadata": {},
   "source": [
    "Where was the R-shift?"
   ]
  },
  {
   "cell_type": "code",
   "execution_count": 965,
   "metadata": {},
   "outputs": [],
   "source": [
    "def colors_and_breaks(series, cutover=0):\n",
    "    maxim = series.describe()['max'] \n",
    "    minim = series.describe()['min']\n",
    "    difference = maxim - minim\n",
    "    diff = difference/5\n",
    "    value = minim\n",
    "    lst = []\n",
    "    if minim > cutover:\n",
    "        lst.append(cutover)\n",
    "    while value < maxim:\n",
    "        value += diff\n",
    "        if value > cutover and value - diff < cutover:\n",
    "            lst.append(cutover)\n",
    "        lst.append(value)\n",
    "\n",
    "    breaks = lst\n",
    "    negs = ['#ffeae2','#ffc9b2', '#ffa785', '#ff825a','#ff5831', '#ff0000']\n",
    "    pos = ['#29f423','#6cf557','#93f67c','#b2f69e','#cdf6bf','#e6f5e0','#e6f5e0']\n",
    "    colors = []\n",
    "    for value in breaks:\n",
    "        if value < cutover:\n",
    "            colors.append(negs.pop())\n",
    "        elif value == cutover:\n",
    "            colors.append('#EEEEEE')\n",
    "        else:\n",
    "            colors.append(pos.pop())\n",
    "    colors.append(pos.pop())\n",
    "    return colors, breaks"
   ]
  },
  {
   "cell_type": "markdown",
   "metadata": {},
   "source": [
    "Where was the vote shift?"
   ]
  },
  {
   "cell_type": "code",
   "execution_count": 966,
   "metadata": {},
   "outputs": [
    {
     "name": "stderr",
     "output_type": "stream",
     "text": [
      "/Users/bwarren/.virtualenvs/voting-bFP2zqbV/lib/python3.7/site-packages/pandas/core/frame.py:6692: FutureWarning:\n",
      "\n",
      "Sorting because non-concatenation axis is not aligned. A future version\n",
      "of pandas will change to not sort by default.\n",
      "\n",
      "To accept the future behavior, pass 'sort=False'.\n",
      "\n",
      "To retain the current behavior and silence the warning, pass 'sort=True'.\n",
      "\n",
      "\n"
     ]
    },
    {
     "data": {
      "text/plain": [
       "'file:///Users/bwarren/SideProjects/voting/slides/static/WI/shift_map.html'"
      ]
     },
     "execution_count": 966,
     "metadata": {},
     "output_type": "execute_result"
    }
   ],
   "source": [
    "\n",
    "series = mydf['republican_shift']\n",
    "colors, breaks = colors_and_breaks(series)\n",
    "\n",
    "fig = ff.create_choropleth(\n",
    "    fips=mydf['combined_fips'], \n",
    "    values=series,\n",
    "    binning_endpoints=breaks,\n",
    "    show_state_data=True,\n",
    "    scope=states,\n",
    "    county_outline={'color': 'rgb(255,255,255)', 'width': 0.5},\n",
    "    colorscale=colors,\n",
    "    show_hover = True,\n",
    "    margin=dict(l=0, r=100, b=0, t=0),\n",
    "    title=\"Change in Republican Presidential Vote %, 2016-2012\",\n",
    "    legend_title=\"Republican Shift in Percentage Points\",\n",
    "    legend=dict(x=-.1, y=1.2)\n",
    ")\n",
    "fig['layout']['xaxis']['fixedrange'] = False \n",
    "fig['layout']['yaxis']['fixedrange'] = False \n",
    "fig['layout']['width']=800\n",
    "fig['layout']['height']=400\n",
    "plotly.offline.plot(fig, filename=state_static_dir+'shift_map.html', include_plotlyjs='https://cdn.plot.ly/plotly-1.42.3.min.js')"
   ]
  },
  {
   "cell_type": "markdown",
   "metadata": {},
   "source": [
    "Where were the changes in net votes?"
   ]
  },
  {
   "cell_type": "code",
   "execution_count": 967,
   "metadata": {},
   "outputs": [
    {
     "data": {
      "text/plain": [
       "'file:///Users/bwarren/SideProjects/voting/slides/static/WI/net_r_votes_map.html'"
      ]
     },
     "execution_count": 967,
     "metadata": {},
     "output_type": "execute_result"
    }
   ],
   "source": [
    "\n",
    "series = mydf['change_in_net_r_votes']\n",
    "colors, breaks = colors_and_breaks(series)\n",
    "\n",
    "\n",
    "fig = ff.create_choropleth(\n",
    "    fips=mydf['combined_fips'], \n",
    "    values=series,\n",
    "    binning_endpoints=breaks,\n",
    "    show_state_data=True,\n",
    "    scope=states,\n",
    "    county_outline={'color': 'rgb(255,255,255)', 'width': 0.5},\n",
    "    colorscale=colors,\n",
    "    show_hover = True,\n",
    "    margin=dict(l=0, r=100, b=0, t=0),\n",
    "    title=\"Change in Net R Votes\",\n",
    "    legend_title=\"Change in Net R Votes\",\n",
    "    legend=dict(x=-.1, y=1.2),\n",
    ")\n",
    "fig['layout']['xaxis']['fixedrange'] = False \n",
    "fig['layout']['yaxis']['fixedrange'] = False \n",
    "fig['layout']['width']=800\n",
    "fig['layout']['height']=400\n",
    "plotly.offline.plot(fig, filename=state_static_dir+'net_r_votes_map.html', include_plotlyjs='https://cdn.plot.ly/plotly-1.42.3.min.js')\n",
    "\n"
   ]
  },
  {
   "cell_type": "markdown",
   "metadata": {},
   "source": [
    "Where Rs got new votes"
   ]
  },
  {
   "cell_type": "code",
   "execution_count": 968,
   "metadata": {},
   "outputs": [
    {
     "data": {
      "text/plain": [
       "'file:///Users/bwarren/SideProjects/voting/slides/static/WI/rep_votes_map.html'"
      ]
     },
     "execution_count": 968,
     "metadata": {},
     "output_type": "execute_result"
    }
   ],
   "source": [
    "series = mydf['rep_vote_change']\n",
    "colors, breaks = colors_and_breaks(series)\n",
    "\n",
    "fig = ff.create_choropleth(\n",
    "    fips=mydf['combined_fips'], \n",
    "    values=series,\n",
    "    binning_endpoints=breaks,\n",
    "    show_state_data=True,\n",
    "    scope=states,\n",
    "    county_outline={'color': 'rgb(255,255,255)', 'width': 0.5},\n",
    "    colorscale=colors,\n",
    "    show_hover = True,\n",
    "    margin=dict(l=0, r=100, b=0, t=0),\n",
    "    title=\"Change in Republican Votes, 2016-2012\",\n",
    "    legend_title=\"Change in R Votes\",\n",
    "    legend=dict(x=-.1, y=1.2)\n",
    ")\n",
    "fig['layout']['xaxis']['fixedrange'] = False \n",
    "fig['layout']['yaxis']['fixedrange'] = False \n",
    "fig['layout']['width']=800\n",
    "fig['layout']['height']=400\n",
    "plotly.offline.plot(fig, filename=state_static_dir+'rep_votes_map.html', include_plotlyjs='https://cdn.plot.ly/plotly-1.42.3.min.js')\n"
   ]
  },
  {
   "cell_type": "markdown",
   "metadata": {},
   "source": [
    "Where did Dem votes change?"
   ]
  },
  {
   "cell_type": "code",
   "execution_count": 969,
   "metadata": {},
   "outputs": [
    {
     "data": {
      "text/plain": [
       "'file:///Users/bwarren/SideProjects/voting/slides/static/WI/dem_votes_map.html'"
      ]
     },
     "execution_count": 969,
     "metadata": {},
     "output_type": "execute_result"
    }
   ],
   "source": [
    "series = mydf['dem_vote_change']\n",
    "colors, breaks = colors_and_breaks(series)\n",
    "\n",
    "fig = ff.create_choropleth(\n",
    "    fips=mydf['combined_fips'], \n",
    "    values=series,\n",
    "    binning_endpoints=breaks,\n",
    "    show_state_data=True,\n",
    "    scope=states,\n",
    "    county_outline={'color': 'rgb(255,255,255)', 'width': 0.5},\n",
    "    colorscale=colors,\n",
    "    show_hover = True,\n",
    "    margin=dict(l=0, r=100, b=0, t=0),\n",
    "    title=\"Change in Dem Votes, 2016-2012\",\n",
    "    legend_title=\"Change in D Votes\",\n",
    "    legend=dict(x=-.1, y=1.2),\n",
    ")\n",
    "fig['layout']['xaxis']['fixedrange'] = False \n",
    "fig['layout']['yaxis']['fixedrange'] = False \n",
    "fig['layout']['width']=800\n",
    "fig['layout']['height']=400\n",
    "plotly.offline.plot(fig, filename=state_static_dir+'dem_votes_map.html', include_plotlyjs='https://cdn.plot.ly/plotly-1.42.3.min.js')\n"
   ]
  },
  {
   "cell_type": "code",
   "execution_count": 970,
   "metadata": {},
   "outputs": [
    {
     "data": {
      "text/plain": [
       "'file:///Users/bwarren/SideProjects/voting/slides/static/WI/population.html'"
      ]
     },
     "execution_count": 970,
     "metadata": {},
     "output_type": "execute_result"
    }
   ],
   "source": [
    "\n",
    "series = mydf['pop_estimate_2017']\n",
    "colors, breaks = colors_and_breaks(series)\n",
    "\n",
    "fig = ff.create_choropleth(\n",
    "    fips=mydf['combined_fips'], \n",
    "    values=series,\n",
    "    binning_endpoints=breaks,\n",
    "    show_state_data=True,\n",
    "    scope=states,\n",
    "    county_outline={'color': 'rgb(255,255,255)', 'width': 0.5},\n",
    "    colorscale=colors,\n",
    "    show_hover = True,\n",
    "    margin=dict(l=0, r=100, b=0, t=0),\n",
    "    title=\"Population\",\n",
    "    legend_title=\"Population\",\n",
    "    legend=dict(x=-.1, y=1.2),\n",
    ")\n",
    "fig['layout']['xaxis']['fixedrange'] = False \n",
    "fig['layout']['yaxis']['fixedrange'] = False \n",
    "fig['layout']['width']=800\n",
    "fig['layout']['height']=400\n",
    "plotly.offline.plot(fig, filename=state_static_dir+'population.html', include_plotlyjs='https://cdn.plot.ly/plotly-1.42.3.min.js')\n"
   ]
  },
  {
   "cell_type": "code",
   "execution_count": 971,
   "metadata": {},
   "outputs": [
    {
     "data": {
      "text/plain": [
       "'file:///Users/bwarren/SideProjects/voting/slides/static/WI/r_vote_gain_%_pop.html'"
      ]
     },
     "execution_count": 971,
     "metadata": {},
     "output_type": "execute_result"
    }
   ],
   "source": [
    "\n",
    "series = mydf['rep_vote_change']/mydf['pop_estimate_2017']\n",
    "colors, breaks = colors_and_breaks(series)\n",
    "\n",
    "fig = ff.create_choropleth(\n",
    "    fips=mydf['combined_fips'], \n",
    "    values=series,\n",
    "    binning_endpoints=breaks,\n",
    "    show_state_data=True,\n",
    "    scope=states,\n",
    "    county_outline={'color': 'rgb(255,255,255)', 'width': 0.5},\n",
    "    colorscale=colors,\n",
    "    show_hover = True,\n",
    "    margin=dict(l=0, r=100, b=0, t=0),\n",
    "    title=\"R vote change / Pop, 2016-2012\",\n",
    "    legend_title=\"R vote change / Pop, 2016-2012\",\n",
    "    legend=dict(x=-.1, y=1.2),\n",
    ")\n",
    "fig['layout']['xaxis']['fixedrange'] = False \n",
    "fig['layout']['yaxis']['fixedrange'] = False \n",
    "fig['layout']['width']=800\n",
    "fig['layout']['height']=400\n",
    "plotly.offline.plot(fig, filename=state_static_dir+'r_vote_gain_%_pop.html', include_plotlyjs='https://cdn.plot.ly/plotly-1.42.3.min.js')\n"
   ]
  },
  {
   "cell_type": "code",
   "execution_count": 972,
   "metadata": {},
   "outputs": [
    {
     "data": {
      "text/plain": [
       "'file:///Users/bwarren/SideProjects/voting/slides/static/WI/d_vote_gain_%_pop.html'"
      ]
     },
     "execution_count": 972,
     "metadata": {},
     "output_type": "execute_result"
    }
   ],
   "source": [
    "\n",
    "series = mydf['dem_vote_change']/mydf['pop_estimate_2017']\n",
    "colors, breaks = colors_and_breaks(series)\n",
    "\n",
    "fig = ff.create_choropleth(\n",
    "    fips=mydf['combined_fips'], \n",
    "    values=series,\n",
    "    binning_endpoints=breaks,\n",
    "    show_state_data=True,\n",
    "    scope=states,\n",
    "    county_outline={'color': 'rgb(255,255,255)', 'width': 0.5},\n",
    "    colorscale=colors,\n",
    "    show_hover = True,\n",
    "    margin=dict(l=0, r=100, b=0, t=0),\n",
    "    title=\"D vote change / Pop, 2016-2012\",\n",
    "    legend_title=\"D vote change / Pop, 2016-2012\",\n",
    "    legend=dict(x=-.1, y=1.2),\n",
    ")\n",
    "fig['layout']['xaxis']['fixedrange'] = False \n",
    "fig['layout']['yaxis']['fixedrange'] = False \n",
    "fig['layout']['width']=800\n",
    "fig['layout']['height']=400\n",
    "plotly.offline.plot(fig, filename=state_static_dir+'d_vote_gain_%_pop.html', include_plotlyjs='https://cdn.plot.ly/plotly-1.42.3.min.js')\n"
   ]
  },
  {
   "cell_type": "code",
   "execution_count": 973,
   "metadata": {},
   "outputs": [
    {
     "data": {
      "text/plain": [
       "'file:///Users/bwarren/SideProjects/voting/slides/static/WI/r_vote_gain_%_2012.html'"
      ]
     },
     "execution_count": 973,
     "metadata": {},
     "output_type": "execute_result"
    }
   ],
   "source": [
    "\n",
    "series = mydf['rep_vote_change']/mydf['votes_gop_2012']\n",
    "colors, breaks = colors_and_breaks(series)\n",
    "\n",
    "fig = ff.create_choropleth(\n",
    "    fips=mydf['combined_fips'], \n",
    "    values=series,\n",
    "    binning_endpoints=breaks,\n",
    "    show_state_data=True,\n",
    "    scope=states,\n",
    "    county_outline={'color': 'rgb(255,255,255)', 'width': 0.5},\n",
    "    colorscale=colors,\n",
    "    show_hover = True,\n",
    "    margin=dict(l=0, r=100, b=0, t=0),\n",
    "    title=\"R Vote 2016 / R Vote 2012\",\n",
    "    legend_title=\"R Vote 2016 / R Vote 2012\",\n",
    "    legend=dict(x=-.1, y=1.2),\n",
    ")\n",
    "fig['layout']['xaxis']['fixedrange'] = False \n",
    "fig['layout']['yaxis']['fixedrange'] = False \n",
    "fig['layout']['width']=800\n",
    "fig['layout']['height']=400\n",
    "plotly.offline.plot(fig, filename=state_static_dir+'r_vote_gain_%_2012.html', include_plotlyjs='https://cdn.plot.ly/plotly-1.42.3.min.js')\n"
   ]
  },
  {
   "cell_type": "code",
   "execution_count": 974,
   "metadata": {},
   "outputs": [
    {
     "data": {
      "text/plain": [
       "'file:///Users/bwarren/SideProjects/voting/slides/static/WI/d_vote_gain_%_2012.html'"
      ]
     },
     "execution_count": 974,
     "metadata": {},
     "output_type": "execute_result"
    }
   ],
   "source": [
    "\n",
    "series = mydf['dem_vote_change']/mydf['votes_dem_2012']\n",
    "colors, breaks = colors_and_breaks(series)\n",
    "\n",
    "fig = ff.create_choropleth(\n",
    "    fips=mydf['combined_fips'], \n",
    "    values=series,\n",
    "    binning_endpoints=breaks,\n",
    "    show_state_data=True,\n",
    "    scope=states,\n",
    "    county_outline={'color': 'rgb(255,255,255)', 'width': 0.5},\n",
    "    colorscale=colors,\n",
    "    show_hover = True,\n",
    "    margin=dict(l=0, r=100, b=0, t=0),\n",
    "    title=\"D Vote 2016 / D Vote 2012\",\n",
    "    legend_title=\"D Vote 2016 / D Vote 2012\",\n",
    "    legend=dict(x=-.1, y=1.2),\n",
    ")\n",
    "fig['layout']['xaxis']['fixedrange'] = False \n",
    "fig['layout']['yaxis']['fixedrange'] = False \n",
    "fig['layout']['width']=800\n",
    "fig['layout']['autosize']=False\n",
    "fig['layout']['height']=400\n",
    "plotly.offline.plot(fig, filename=state_static_dir+'d_vote_gain_%_2012.html', include_plotlyjs='https://cdn.plot.ly/plotly-1.42.3.min.js')\n"
   ]
  },
  {
   "cell_type": "code",
   "execution_count": 975,
   "metadata": {},
   "outputs": [
    {
     "data": {
      "text/plain": [
       "'file:///Users/bwarren/SideProjects/voting/slides/static/WI/pop_change_map.html'"
      ]
     },
     "execution_count": 975,
     "metadata": {},
     "output_type": "execute_result"
    }
   ],
   "source": [
    "\n",
    "series =  mydf['2016_pop']/mydf['1980_pop_total']\n",
    "colors, breaks = colors_and_breaks(series, cutover=1)\n",
    "\n",
    "fig = ff.create_choropleth(\n",
    "    fips=mydf['combined_fips'], \n",
    "    values=series,\n",
    "    binning_endpoints=breaks,\n",
    "    show_state_data=True,\n",
    "    scope=states,\n",
    "    county_outline={'color': 'rgb(255,255,255)', 'width': 0.5},\n",
    "    colorscale=colors,\n",
    "    show_hover = True,\n",
    "    margin=dict(l=0, r=100, b=0, t=0),\n",
    "    title=\"2017 pop - 1980 pop\",\n",
    "    legend_title=\"2017 pop / 1980 pop\",\n",
    "    legend=dict(x=-.1, y=1.2)\n",
    ")\n",
    "fig['layout']['xaxis']['fixedrange'] = False \n",
    "fig['layout']['yaxis']['fixedrange'] = False \n",
    "fig['layout']['width']=800\n",
    "fig['layout']['height']=400\n",
    "plotly.offline.plot(fig, filename=state_static_dir+'pop_change_map.html', include_plotlyjs='https://cdn.plot.ly/plotly-1.42.3.min.js')"
   ]
  },
  {
   "cell_type": "markdown",
   "metadata": {},
   "source": [
    "Dem turnout failures"
   ]
  },
  {
   "cell_type": "code",
   "execution_count": 1004,
   "metadata": {},
   "outputs": [
    {
     "data": {
      "image/png": "[encoded data removed]",
      "text/plain": [
       "<Figure size 432x288 with 1 Axes>"
      ]
     },
     "metadata": {
      "needs_background": "light"
     },
     "output_type": "display_data"
    }
   ],
   "source": [
    "waterfall_chart.plot(mydf['GEO.display-label'].str.replace(' County.*', ''),\n",
    "                     mydf['dem_vote_change'], \n",
    "                     sorted_value=True, \n",
    "                     threshold=.1, \n",
    "                     formatting='{:.0f}',\n",
    "                     rotation_value=90,\n",
    "                     Title='Dem Vote Change, 2012=>2016'\n",
    "                    ).savefig(state_static_dir+\"d_votes_waterfall.png\",dpi=200,bbox_inches='tight')"
   ]
  },
  {
   "cell_type": "markdown",
   "metadata": {},
   "source": [
    "R Turnout Successes"
   ]
  },
  {
   "cell_type": "code",
   "execution_count": 1005,
   "metadata": {},
   "outputs": [
    {
     "data": {
      "image/png": "[encoded data removed]",
      "text/plain": [
       "<Figure size 432x288 with 1 Axes>"
      ]
     },
     "metadata": {
      "needs_background": "light"
     },
     "output_type": "display_data"
    }
   ],
   "source": [
    "waterfall_chart.plot(mydf['GEO.display-label'].str.replace(' County.*', ''),\n",
    "                     mydf['rep_vote_change'], \n",
    "                     sorted_value=True, \n",
    "                     threshold=.05, \n",
    "                     formatting='{:.0f}',\n",
    "                     rotation_value=90,\n",
    "                     Title='GOP Vote Change, 2012=>2016'\n",
    "                    ).savefig(state_static_dir+\"r_votes_waterfall.png\",dpi=200,bbox_inches='tight')"
   ]
  },
  {
   "cell_type": "markdown",
   "metadata": {},
   "source": [
    "R Net Votes Waterfall"
   ]
  },
  {
   "cell_type": "code",
   "execution_count": 1006,
   "metadata": {},
   "outputs": [
    {
     "data": {
      "image/png": "[encoded data removed]",
      "text/plain": [
       "<Figure size 432x288 with 1 Axes>"
      ]
     },
     "metadata": {
      "needs_background": "light"
     },
     "output_type": "display_data"
    }
   ],
   "source": [
    "waterfall_chart.plot(mydf['GEO.display-label'].str.replace(' County.*', ''),\n",
    "                     mydf['change_in_net_r_votes'], \n",
    "                     sorted_value=True, \n",
    "                     threshold=.1, \n",
    "                     formatting='{:.0f}',\n",
    "                     rotation_value=90,\n",
    "                     Title='Net Additional GOP Votes, 2012=>2016'\n",
    "                    ).savefig(state_static_dir+\"net_gop_votes_waterfall.png\",dpi=200,bbox_inches='tight')"
   ]
  },
  {
   "cell_type": "code",
   "execution_count": 1007,
   "metadata": {},
   "outputs": [
    {
     "data": {
      "image/png": "[encoded data removed]",
      "text/plain": [
       "<Figure size 432x288 with 1 Axes>"
      ]
     },
     "metadata": {
      "needs_background": "light"
     },
     "output_type": "display_data"
    }
   ],
   "source": [
    "waterfall_chart.plot(mydf['GEO.display-label'].str.replace(' County.*', ''),\n",
    "                     mydf['total_votes_2016'], \n",
    "                     sorted_value=True, \n",
    "                     threshold=.1, \n",
    "                     formatting='{:.0f}',\n",
    "                     rotation_value=90,\n",
    "                     Title='Total Votes by County'\n",
    "                    ).savefig(state_static_dir+\"tot_votes_waterfall.png\",dpi=200,bbox_inches='tight')"
   ]
  },
  {
   "cell_type": "markdown",
   "metadata": {},
   "source": [
    "pop_estimate_2017\n",
    "Remember to readd margin-left:-200px to the generated HTML\n",
    "    "
   ]
  },
  {
   "cell_type": "code",
   "execution_count": 1008,
   "metadata": {
    "scrolled": true
   },
   "outputs": [],
   "source": [
    "# import plotly.plotly as py\n",
    "# import plotly.graph_objs as go\n",
    "\n",
    "# import numpy as np\n",
    "# mydf['color'] = np.where(mydf['GEO.display-label'].str.contains('Stark|Mahoning|Columbiana|Carroll|Jefferson|Marrison|Tuscarnawas|Belmont|Guernsey|Monroe|Noble|Coshocton|Muskingum|Perry|Athens|Meigs|Vinton|Jackson'), \n",
    "#     'red', \n",
    "#     'black'\n",
    "# )\n",
    "\n",
    "# trace1 = go.Scatter3d(\n",
    "#     x=mydf['total_votes_2016'],\n",
    "#     y=mydf['High School Only or Less, 2012-2016'],\n",
    "#     z=mydf['change_in_net_r_votes']/mydf['total_votes_2012'],\n",
    "#     text=mydf['GEO.display-label'],\n",
    "#     mode='markers',\n",
    "#     marker=dict(\n",
    "#         size=4,\n",
    "#         color=mydf['color'],\n",
    "#         line=dict(\n",
    "#             color='rgba(217, 217, 217, 0.14)',\n",
    "#             width=0.5\n",
    "#         ),\n",
    "#         opacity=0.8,\n",
    "#     )\n",
    "# )\n",
    "# data = [trace1]\n",
    "# layout = go.Layout(\n",
    "#     margin=dict(\n",
    "#         l=0,\n",
    "#         r=0,\n",
    "#         b=0,\n",
    "#         t=0\n",
    "#     ),\n",
    "#     scene = dict(\n",
    "#         aspectmode='cube',\n",
    "#         xaxis = dict(title='total votes'),\n",
    "#         yaxis = dict(title='High School Only or Less, 2012-2016'),\n",
    "#         zaxis = dict(title='Change in votes'),\n",
    "#     ),\n",
    "\n",
    "#     )\n",
    "# fig = go.Figure(data=data, layout=layout)\n",
    "# py.iplot(fig)"
   ]
  },
  {
   "cell_type": "markdown",
   "metadata": {},
   "source": [
    "Where are the older people?\n",
    "`"
   ]
  },
  {
   "cell_type": "code",
   "execution_count": 1009,
   "metadata": {},
   "outputs": [],
   "source": [
    "# counties = alt.topo_feature(vega_data.us_10m.url, 'counties')\n",
    "# states = alt.topo_feature(vega_data.us_10m.url, 'states')\n",
    "\n",
    "# outlines = alt.Chart(states).mark_geoshape(\n",
    "#     stroke='black'\n",
    "# ).project('albersUsa')\n",
    "    \n",
    "# colors = alt.Chart(counties).mark_geoshape().encode(\n",
    "#     color='males_over_45_rate:Q'\n",
    "# ).transform_lookup(\n",
    "#     lookup='id',\n",
    "#     from_=alt.LookupData(df.dropna(subset=['males_over_45_rate']), 'id', ['males_over_45_rate'])\n",
    "# ).project(\n",
    "#     type='albersUsa'\n",
    "# ).properties(\n",
    "#     width=500,\n",
    "#     height=300\n",
    "# )\n",
    "# colors + outlines\n",
    "# chart.save('slides/static/misc/drugs.html')"
   ]
  },
  {
   "cell_type": "markdown",
   "metadata": {},
   "source": [
    "Just State Bars"
   ]
  },
  {
   "cell_type": "code",
   "execution_count": 1010,
   "metadata": {},
   "outputs": [
    {
     "data": {
      "text/plain": [
       "'file:///Users/bwarren/SideProjects/voting/slides/static/PA/turnout_bars.html'"
      ]
     },
     "execution_count": 1010,
     "metadata": {},
     "output_type": "execute_result"
    }
   ],
   "source": [
    "subset = df[\n",
    "    ['votes_dem_2008','votes_gop_2008', 'votes_dem_2012', 'votes_gop_2012', 'votes_dem_2016', 'votes_gop_2016','votes_oth_2008','votes_oth_2012','votes_oth_2016', 'state_abbr']\n",
    "][df.state_abbr.isin(states)].groupby('state_abbr').sum()\n",
    "\n",
    "trace5 = go.Bar(\n",
    "    x=subset.index,\n",
    "    y=subset['votes_dem_2008'],\n",
    "    name='Dem Votes 2008',\n",
    "    marker=dict(color='#E0C0F4')\n",
    ")\n",
    "trace6 = go.Bar(\n",
    "    x=subset.index,\n",
    "    y=subset['votes_gop_2008'],\n",
    "    name='GOP Votes 2008',\n",
    "    marker=dict(color='#F0A58A')\n",
    ")\n",
    "trace1 = go.Bar(\n",
    "    x=subset.index,\n",
    "    y=subset['votes_dem_2012'],\n",
    "    name='Dem Votes 2012',\n",
    "    marker=dict(color='#816EF3')\n",
    ")\n",
    "trace2 = go.Bar(\n",
    "    x=subset.index,\n",
    "    y=subset['votes_gop_2012'],\n",
    "    name='GOP Votes 2012',\n",
    "    marker=dict(color='#E35F4C')\n",
    ")\n",
    "trace3 = go.Bar(\n",
    "    x=subset.index,\n",
    "    y=subset['votes_dem_2016'],\n",
    "    name='Dem Votes 2016',\n",
    "    marker=dict(color='#092EAC')\n",
    ")\n",
    "trace4 = go.Bar(\n",
    "    x=subset.index,\n",
    "    y=subset['votes_gop_2016'],\n",
    "    name='GOP Votes 2016',\n",
    "    marker=dict(color='#BC1520')\n",
    ")\n",
    "trace7 = go.Bar(\n",
    "    x=subset.index,\n",
    "    y=subset['votes_oth_2008'],\n",
    "    name='Other Votes 2008'\n",
    ")\n",
    "trace8 = go.Bar(\n",
    "    x=subset.index,\n",
    "    y=subset['votes_oth_2012'],\n",
    "    name='Other Votes 2012'\n",
    ")\n",
    "trace9 = go.Bar(\n",
    "    x=subset.index,\n",
    "    y=subset['votes_oth_2016'],\n",
    "    name='Other Votes 2016'\n",
    ")\n",
    "data=[trace5, trace6, trace1, trace2, trace3, trace4, trace7, trace8, trace9]\n",
    "layout = go.Layout(barmode='group', title=\",\".join(states)+' Turnout Bars')\n",
    "fig = go.Figure(data=data, layout=layout)\n",
    "plotly.offline.plot(fig, filename=state_static_dir+'/turnout_bars.html')\n",
    "\n"
   ]
  },
  {
   "cell_type": "code",
   "execution_count": 1011,
   "metadata": {},
   "outputs": [],
   "source": [
    "# import plotly.plotly as py\n",
    "# import plotly.graph_objs as go\n",
    "\n",
    "# import numpy as np\n",
    "# mydf['color'] = np.where(mydf['GEO.display-label'].str.contains('Stark|Mahoning|Columbiana|Carroll|Jefferson|Marrison|Tuscarnawas|Belmont|Guernsey|Monroe|Noble|Coshocton|Muskingum|Perry|Athens|Meigs|Vinton|Jackson'), \n",
    "#     'red', \n",
    "#     'black'\n",
    "# )\n",
    "# trace1 = go.Scatter3d(\n",
    "#     x=mydf['males_over_45']/mydf['pop_estimate_2017'],\n",
    "#     y=mydf['High School Only or Less, 2012-2016'],\n",
    "#     z=mydf['votes_gop_2016']/mydf['votes_gop_2012'],\n",
    "#     text=mydf['GEO.display-label'],\n",
    "#     mode='markers',\n",
    "#     marker=dict(\n",
    "#         size=4,\n",
    "#         color='black',\n",
    "#         line=dict(\n",
    "#             color='rgba(217, 217, 217, 0.14)',\n",
    "#             width=0.5\n",
    "#         ),\n",
    "#         opacity=0.8,\n",
    "#     )\n",
    "# )\n",
    "# data = [trace1]\n",
    "# layout = go.Layout(\n",
    "#     margin=dict(\n",
    "#         l=0,\n",
    "#         r=0,\n",
    "#         b=0,\n",
    "#         t=0\n",
    "#     ),\n",
    "#     scene = dict(\n",
    "#         aspectmode='cube',\n",
    "#         xaxis = dict(title='X'),\n",
    "#         yaxis = dict(title='High School Only or Less, 2012-2016'),\n",
    "#         zaxis = dict(title='Change in votes'),\n",
    "#     ),\n",
    "\n",
    "#     )\n",
    "# fig = go.Figure(data=data, layout=layout)\n",
    "# plotly.offline.plot(fig)"
   ]
  },
  {
   "cell_type": "markdown",
   "metadata": {},
   "source": [
    "Old person / total pop vs % change in R votes"
   ]
  },
  {
   "cell_type": "code",
   "execution_count": 1012,
   "metadata": {},
   "outputs": [],
   "source": [
    "\n",
    "# trace = go.Scatter(\n",
    "#     x = mydf['males_over_45']/mydf['pop_estimate_2017'],\n",
    "#     y = mydf['votes_gop_2016']/mydf['votes_gop_2012'],\n",
    "#     mode = 'markers',\n",
    "#     text=df_flipped.State,\n",
    "#     marker = dict(\n",
    "#         size = 10,\n",
    "#         color = 'yellow',\n",
    "#         line = dict(\n",
    "#             width = 2,\n",
    "#             color = 'rgb(0, 0, 0)'\n",
    "#         )\n",
    "#     )\n",
    "# )\n",
    "# data = [trace]\n",
    "\n",
    "# layout = dict(\n",
    "#               yaxis = dict(zeroline = False, title='Y'),\n",
    "#               xaxis = dict(zeroline = False, title='X'),\n",
    "#               width=600,\n",
    "#               height=500,\n",
    "#              )\n",
    "\n",
    "# fig = dict(data=data, layout=layout)\n",
    "\n",
    "# # IPython notebook\n",
    "# plotly.offline.plot(fig)\n"
   ]
  },
  {
   "cell_type": "markdown",
   "metadata": {},
   "source": [
    "Specific County Bars"
   ]
  },
  {
   "cell_type": "code",
   "execution_count": 1013,
   "metadata": {},
   "outputs": [
    {
     "data": {
      "text/html": [
       "<div>\n",
       "<style scoped>\n",
       "    .dataframe tbody tr th:only-of-type {\n",
       "        vertical-align: middle;\n",
       "    }\n",
       "\n",
       "    .dataframe tbody tr th {\n",
       "        vertical-align: top;\n",
       "    }\n",
       "\n",
       "    .dataframe thead th {\n",
       "        text-align: right;\n",
       "    }\n",
       "</style>\n",
       "<table border=\"1\" class=\"dataframe\">\n",
       "  <thead>\n",
       "    <tr style=\"text-align: right;\">\n",
       "      <th></th>\n",
       "      <th>change_in_net_r_votes</th>\n",
       "      <th>id</th>\n",
       "    </tr>\n",
       "  </thead>\n",
       "  <tbody>\n",
       "    <tr>\n",
       "      <th>2871</th>\n",
       "      <td>-32602</td>\n",
       "      <td>42091</td>\n",
       "    </tr>\n",
       "    <tr>\n",
       "      <th>1845</th>\n",
       "      <td>-25654</td>\n",
       "      <td>42029</td>\n",
       "    </tr>\n",
       "    <tr>\n",
       "      <th>438</th>\n",
       "      <td>-16682</td>\n",
       "      <td>42003</td>\n",
       "    </tr>\n",
       "    <tr>\n",
       "      <th>29</th>\n",
       "      <td>-3075</td>\n",
       "      <td>42045</td>\n",
       "    </tr>\n",
       "    <tr>\n",
       "      <th>227</th>\n",
       "      <td>-1476</td>\n",
       "      <td>42027</td>\n",
       "    </tr>\n",
       "    <tr>\n",
       "      <th>...</th>\n",
       "      <td>...</td>\n",
       "      <td>...</td>\n",
       "    </tr>\n",
       "    <tr>\n",
       "      <th>2665</th>\n",
       "      <td>19510</td>\n",
       "      <td>42107</td>\n",
       "    </tr>\n",
       "    <tr>\n",
       "      <th>1204</th>\n",
       "      <td>20055</td>\n",
       "      <td>42133</td>\n",
       "    </tr>\n",
       "    <tr>\n",
       "      <th>3063</th>\n",
       "      <td>21382</td>\n",
       "      <td>42049</td>\n",
       "    </tr>\n",
       "    <tr>\n",
       "      <th>3023</th>\n",
       "      <td>23088</td>\n",
       "      <td>42069</td>\n",
       "    </tr>\n",
       "    <tr>\n",
       "      <th>2812</th>\n",
       "      <td>32059</td>\n",
       "      <td>42079</td>\n",
       "    </tr>\n",
       "  </tbody>\n",
       "</table>\n",
       "<p>67 rows × 2 columns</p>\n",
       "</div>"
      ],
      "text/plain": [
       "      change_in_net_r_votes     id\n",
       "2871                 -32602  42091\n",
       "1845                 -25654  42029\n",
       "438                  -16682  42003\n",
       "29                    -3075  42045\n",
       "227                   -1476  42027\n",
       "...                     ...    ...\n",
       "2665                  19510  42107\n",
       "1204                  20055  42133\n",
       "3063                  21382  42049\n",
       "3023                  23088  42069\n",
       "2812                  32059  42079\n",
       "\n",
       "[67 rows x 2 columns]"
      ]
     },
     "execution_count": 1013,
     "metadata": {},
     "output_type": "execute_result"
    }
   ],
   "source": [
    "# mydf.columns\n",
    "ids = mydf[['change_in_net_r_votes', 'id']].sort_values(by='change_in_net_r_votes')\n",
    "ids"
   ]
  },
  {
   "cell_type": "markdown",
   "metadata": {},
   "source": [
    "Top D gain counties"
   ]
  },
  {
   "cell_type": "code",
   "execution_count": 1014,
   "metadata": {},
   "outputs": [
    {
     "data": {
      "text/plain": [
       "'file:///Users/bwarren/SideProjects/voting/slides/static/PA/top_d_vote_gain_county_bars.html'"
      ]
     },
     "execution_count": 1014,
     "metadata": {},
     "output_type": "execute_result"
    }
   ],
   "source": [
    "ids = mydf[['change_in_net_r_votes', 'id']].sort_values(by='change_in_net_r_votes')[:10]['id']\n",
    "\n",
    "subset = df[\n",
    "    ['votes_dem_2008','votes_gop_2008', 'votes_dem_2012', 'votes_gop_2012', 'votes_dem_2016', 'votes_gop_2016', 'state_abbr', 'id', 'GEO.display-label']\n",
    "][df.id.isin(ids.values)]\n",
    "\n",
    "trace5 = go.Bar(\n",
    "    x=subset['GEO.display-label'],\n",
    "    y=subset['votes_dem_2008'],\n",
    "    name='Dem Votes 2008',\n",
    "    marker=dict(color='#E0C0F4')\n",
    ")\n",
    "trace6 = go.Bar(\n",
    "    x=subset['GEO.display-label'],\n",
    "    y=subset['votes_gop_2008'],\n",
    "    name='GOP Votes 2008',\n",
    "    marker=dict(color='#F0A58A')\n",
    ")\n",
    "trace1 = go.Bar(\n",
    "    x=subset['GEO.display-label'],\n",
    "    y=subset['votes_dem_2012'],\n",
    "    name='Dem Votes 2012',\n",
    "    marker=dict(color='#816EF3')    \n",
    ")\n",
    "trace2 = go.Bar(\n",
    "    x=subset['GEO.display-label'],\n",
    "    y=subset['votes_gop_2012'],\n",
    "    name='GOP Votes 2012',\n",
    "    marker=dict(color='#E35F4C')\n",
    ")\n",
    "trace3 = go.Bar(\n",
    "    x=subset['GEO.display-label'],\n",
    "    y=subset['votes_dem_2016'],\n",
    "    name='Dem Votes 2016',\n",
    "    marker=dict(color='#092EAC')\n",
    ")\n",
    "trace4 = go.Bar(\n",
    "    x=subset['GEO.display-label'],\n",
    "    y=subset['votes_gop_2016'],\n",
    "    name='GOP Votes 2016',\n",
    "    marker=dict(color='#BC1520')\n",
    ")\n",
    "trace7 = go.Bar(\n",
    "    x=subset['GEO.display-label'],\n",
    "    y=subset['votes_gop_2016']-subset['votes_gop_2012'],\n",
    "    name='GOP Vote Gain 2012=>2016'\n",
    ")\n",
    "trace8 = go.Bar(\n",
    "    x=subset['GEO.display-label'],\n",
    "    y=subset['votes_dem_2016']-subset['votes_dem_2012'],\n",
    "    name='Dem Vote Gain 2012=>2016'\n",
    ")\n",
    "trace9 = go.Bar(\n",
    "    x=subset['GEO.display-label'],\n",
    "    y=(subset['votes_dem_2016']-subset['votes_gop_2016'])-(subset['votes_dem_2012']-subset['votes_gop_2012']),\n",
    "    name='Net Dem Vote Gain 2012=>2016'\n",
    ")\n",
    "\n",
    "data=[trace5, trace6, trace1, trace2, trace3, trace4, trace7, trace8, trace9]\n",
    "layout = go.Layout(barmode='group', title='Top Dem Vote Gain Counties')\n",
    "fig = go.Figure(data=data, layout=layout)\n",
    "plotly.offline.plot(fig, filename=state_static_dir+'top_d_vote_gain_county_bars.html')\n",
    "\n"
   ]
  },
  {
   "cell_type": "code",
   "execution_count": 1018,
   "metadata": {},
   "outputs": [
    {
     "data": {
      "text/plain": [
       "'file:///Users/bwarren/SideProjects/voting/slides/static/MI/top_r_vote_gain_county_bars.html'"
      ]
     },
     "execution_count": 1018,
     "metadata": {},
     "output_type": "execute_result"
    }
   ],
   "source": [
    "ids = mydf[['change_in_net_r_votes', 'id']].sort_values(by='change_in_net_r_votes', ascending=False)[:10]['id']\n",
    "\n",
    "subset = df[\n",
    "    ['votes_dem_2008','votes_gop_2008', 'votes_dem_2012', 'votes_gop_2012', 'votes_dem_2016', 'votes_gop_2016', 'state_abbr', 'id', 'GEO.display-label']\n",
    "][df.id.isin(ids.values)]\n",
    "\n",
    "trace5 = go.Bar(\n",
    "    x=subset['GEO.display-label'],\n",
    "    y=subset['votes_dem_2008'],\n",
    "    name='Dem Votes 2008',\n",
    "    marker=dict(color='#E0C0F4')\n",
    ")\n",
    "trace6 = go.Bar(\n",
    "    x=subset['GEO.display-label'],\n",
    "    y=subset['votes_gop_2008'],\n",
    "    name='GOP Votes 2008',\n",
    "    marker=dict(color='#F0A58A')\n",
    ")\n",
    "trace1 = go.Bar(\n",
    "    x=subset['GEO.display-label'],\n",
    "    y=subset['votes_dem_2012'],\n",
    "    name='Dem Votes 2012',\n",
    "    marker=dict(color='#816EF3')\n",
    ")\n",
    "trace2 = go.Bar(\n",
    "    x=subset['GEO.display-label'],\n",
    "    y=subset['votes_gop_2012'],\n",
    "    name='GOP Votes 2012',\n",
    "    marker=dict(color='#E35F4C')\n",
    ")\n",
    "trace3 = go.Bar(\n",
    "    x=subset['GEO.display-label'],\n",
    "    y=subset['votes_dem_2016'],\n",
    "    name='Dem Votes 2016',\n",
    "    marker=dict(color='#092EAC'),\n",
    ")\n",
    "trace4 = go.Bar(\n",
    "    x=subset['GEO.display-label'],\n",
    "    y=subset['votes_gop_2016'],\n",
    "    name='GOP Votes 2016',\n",
    "    marker=dict(color='#BC1520')\n",
    ")\n",
    "trace7 = go.Bar(\n",
    "    x=subset['GEO.display-label'],\n",
    "    y=subset['votes_gop_2016']-subset['votes_gop_2012'],\n",
    "    name='GOP Vote Gain 2012=>2016'\n",
    ")\n",
    "trace8 = go.Bar(\n",
    "    x=subset['GEO.display-label'],\n",
    "    y=subset['votes_dem_2016']-subset['votes_dem_2012'],\n",
    "    name='Dem Vote Gain 2012=>2016'\n",
    ")\n",
    "trace9 = go.Bar(\n",
    "    x=subset['GEO.display-label'],\n",
    "    y=(subset['votes_gop_2016']-subset['votes_dem_2016'])-(subset['votes_gop_2012']-subset['votes_dem_2012']),\n",
    "    name='Net R Vote Gain 2012=>2016'\n",
    ")\n",
    "\n",
    "\n",
    "data=[trace5, trace6, trace1, trace2, trace3, trace4, trace7, trace8, trace9]\n",
    "layout = go.Layout(barmode='group', title='Top GOP Vote Gain Counties')\n",
    "fig = go.Figure(data=data, layout=layout)\n",
    "plotly.offline.plot(fig, filename=state_static_dir+'top_r_vote_gain_county_bars.html')\n",
    "\n",
    "\n",
    "\n"
   ]
  },
  {
   "cell_type": "code",
   "execution_count": 1016,
   "metadata": {},
   "outputs": [
    {
     "data": {
      "text/plain": [
       "'file:///Users/bwarren/SideProjects/voting/slides/static/PA/distributions.html'"
      ]
     },
     "execution_count": 1016,
     "metadata": {},
     "output_type": "execute_result"
    }
   ],
   "source": [
    "hist_data = [mydf['dem_percent_increase'], mydf['rep_percent_increase'], mydf['republican_shift']]\n",
    "group_labels=['Dem Vote (2016-2012)/2012', 'GOP Vote (2016-2012)/2012', 'Republican Shift']\n",
    "fig = ff.create_distplot(hist_data, group_labels, bin_size=5)\n",
    "plotly.offline.plot(fig, filename=state_static_dir+'distributions.html')"
   ]
  }
 ],
 "metadata": {
  "kernelspec": {
   "display_name": "Python 3",
   "language": "python",
   "name": "python3"
  },
  "language_info": {
   "codemirror_mode": {
    "name": "ipython",
    "version": 3
   },
   "file_extension": ".py",
   "mimetype": "text/x-python",
   "name": "python",
   "nbconvert_exporter": "python",
   "pygments_lexer": "ipython3",
   "version": "3.7.2"
  }
 },
 "nbformat": 4,
 "nbformat_minor": 2
}
